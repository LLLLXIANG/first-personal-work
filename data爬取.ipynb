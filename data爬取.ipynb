{
 "cells": [
  {
   "cell_type": "code",
   "execution_count": 1,
   "metadata": {},
   "outputs": [],
   "source": [
    "import requests\n",
    "import re\n",
    "import json"
   ]
  },
  {
   "cell_type": "code",
   "execution_count": null,
   "metadata": {},
   "outputs": [],
   "source": [
    "headers={\n",
    "    'User-Agent':'Mozilla/5.0 (Windows NT 10.0; Win64; x64) AppleWebKit/537.36 (KHTML, like Gecko) Chrome/88.0.4324.182 Safari/537.36',\n",
    "}\n",
    "comments = []\n",
    "comment_id = '0'\n",
    "first_id = '1613573389059'\n",
    "\n",
    "for i in range(1,999):\n",
    "        url = \"https://coral.qq.com/article/5963120294/comment/v2?callback=_article5963120294commentv2&orinum=10&oriorder=o&pageflag=1&cursor=\"+str(comment_id)+\"&scorecursor=0&orirepnum=2&reporder=o&reppageflag=1&source=1&_=\"+str(first_id)\n",
    "        html = requests.get(url,headers=headers).content.decode()\n",
    "        comments = re.compile(r'\"content\":\"(.*?)\"', re.S)\n",
    "        txt = re.findall(comments,html)\n",
    "        with open('comments2.txt','a',encoding='utf-8') as f:\n",
    "            for i in txt:\n",
    "                i = i.replace(\"\\n\", \"\")\n",
    "                f.write(i)\n",
    "                f.write(\"\\n\")\n",
    "        comment_id=re.findall('\"last\":\"(.*?)\"',html,re.S)[0].replace(\"\\n\",\"\").replace(\" \",\"\")\n",
    "        first_id = str(int(first_id)+1)\n",
    "print(\"successful\")\n",
    "      \n",
    "        \n"
   ]
  },
  {
   "cell_type": "code",
   "execution_count": null,
   "metadata": {},
   "outputs": [],
   "source": []
  }
 ],
 "metadata": {
  "kernelspec": {
   "display_name": "Python 3",
   "language": "python",
   "name": "python3"
  },
  "language_info": {
   "codemirror_mode": {
    "name": "ipython",
    "version": 3
   },
   "file_extension": ".py",
   "mimetype": "text/x-python",
   "name": "python",
   "nbconvert_exporter": "python",
   "pygments_lexer": "ipython3",
   "version": "3.8.5"
  }
 },
 "nbformat": 4,
 "nbformat_minor": 4
}
