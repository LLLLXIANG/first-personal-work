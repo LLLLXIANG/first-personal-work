{
 "cells": [
  {
   "cell_type": "code",
   "execution_count": 2,
   "metadata": {},
   "outputs": [],
   "source": [
    "import urllib.request\n",
    "import re\n",
    "import time\n",
    "import random\n",
    "import json"
   ]
  },
  {
   "cell_type": "code",
   "execution_count": 11,
   "metadata": {},
   "outputs": [],
   "source": [
    "#构建用户代理\n",
    "userpools=[\n",
    "    \"Mozilla/5.0 (Windows NT 10.0; WOW64) AppleWebKit/537.36 (KHTML, like Gecko) Chrome/55.0.2883.87 Safari/537.36\",\n",
    "    \"Mozilla/5.0 (Windows NT 10.0; Win64; x64; rv:71.0) Gecko/20100101 Firefox/71.0\",\n",
    "    ]\n",
    "user = random.choice(userpools)\n",
    "headers = (\"User-Agent\",user)\n",
    "open = urllib.request.build_opener()\n",
    "open.addheaders = [headers]\n",
    "urllib.request.install_opener(open)\n",
    "    \n",
    "first_id = 1613573389059\n",
    "comment_id = \"0\" \n",
    "commentslist = []\n",
    "for i in range(1,1000):\n",
    "    url = \"https://coral.qq.com/article/5963120294/comment/v2?callback=_article5963120294commentv2&orinum=10&oriorder=o&pageflag=1&cursor=\"+str(comment_id)+\"&scorecursor=0&orirepnum=2&reporder=o&reppageflag=1&source=1&_=\"+str(first_id)\n",
    "    content_path = '\"content\":\"(.*?)\",'\n",
    "    last_path = '\"last\":\"(.*?)\",' \n",
    "    content_data = urllib.request.urlopen(url).read().decode(\"utf-8\")\n",
    "    content = re.compile(content_path).findall(content_data)  \n",
    "    last_id = re.compile(last_path).findall(content_data)  \n",
    "    for j in last_id: \n",
    "        comment_id = j\n",
    "        first_id += 1 \n",
    "    \n",
    "    for j in range(1,len(content)):\n",
    "        dict_word={}\n",
    "        dict_word[\"评论\"] = content[j]  \n",
    "        commentlist.append(dict_word)           \n",
    "print(comments_list)\n",
    "    \n",
    "with open('comments.json','a', encoding='utf-8') as fi:\n",
    "    fi.write(json.dumps(comments_list,ensure_ascii=False))\n"
   ]
  },
  {
   "cell_type": "code",
   "execution_count": 12,
   "metadata": {},
   "outputs": [],
   "source": []
  },
  {
   "cell_type": "code",
   "execution_count": null,
   "metadata": {},
   "outputs": [],
   "source": []
  }
 ],
 "metadata": {
  "kernelspec": {
   "display_name": "Python 3",
   "language": "python",
   "name": "python3"
  },
  "language_info": {
   "codemirror_mode": {
    "name": "ipython",
    "version": 3
   },
   "file_extension": ".py",
   "mimetype": "text/x-python",
   "name": "python",
   "nbconvert_exporter": "python",
   "pygments_lexer": "ipython3",
   "version": "3.8.5"
  }
 },
 "nbformat": 4,
 "nbformat_minor": 4
}
