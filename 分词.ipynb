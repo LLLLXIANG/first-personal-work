{
 "cells": [
  {
   "cell_type": "code",
   "execution_count": 4,
   "metadata": {},
   "outputs": [],
   "source": [
    "from nltk.corpus import stopwords "
   ]
  },
  {
   "cell_type": "code",
   "execution_count": 9,
   "metadata": {},
   "outputs": [],
   "source": [
    "import jieba\n",
    "\n",
    "comments= open(\"comments.json\", \"r\", encoding='utf-8').read()\n",
    "    \n",
    " # 使用精确模式对文本进行分词\n",
    "\n",
    "words = jieba.lcut(comments)   \n",
    " # 通过键值对的形式存储词语及其出现的次数\n",
    "counts = {} \n",
    "    \n",
    "for word in words:\n",
    "    # 单个词语不计算在内\n",
    "    if len(word) == 1: \n",
    "        continue   \n",
    "    else: \n",
    "    # 遍历所有词语，每出现一次其对应的值加 1\n",
    "        counts[word] = counts.get(word, 0) + 1 \n",
    "          \n",
    "# 将键值对转换成列表\n",
    "items = list(counts.items())\n",
    "\n",
    "# 根据词语出现的次数进行从大到小排序\n",
    "items.sort(key=lambda x: x[1], reverse=True)\n",
    "\n",
    "#保存下分词成果    \n",
    "f = open(\"split.txt\",\"w\",encoding='utf-8')\n",
    "f.write(str(items))\n",
    "f.close() "
   ]
  }
 ],
 "metadata": {
  "kernelspec": {
   "display_name": "Python 3",
   "language": "python",
   "name": "python3"
  },
  "language_info": {
   "codemirror_mode": {
    "name": "ipython",
    "version": 3
   },
   "file_extension": ".py",
   "mimetype": "text/x-python",
   "name": "python",
   "nbconvert_exporter": "python",
   "pygments_lexer": "ipython3",
   "version": "3.8.5"
  }
 },
 "nbformat": 4,
 "nbformat_minor": 4
}
